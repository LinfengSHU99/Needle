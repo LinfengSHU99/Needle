{
 "cells": [
  {
   "cell_type": "code",
   "execution_count": 4,
   "metadata": {
    "collapsed": true
   },
   "outputs": [],
   "source": [
    "import torch\n",
    "import numpy as np\n"
   ]
  },
  {
   "cell_type": "code",
   "execution_count": 112,
   "outputs": [
    {
     "name": "stdout",
     "output_type": "stream",
     "text": [
      "tensor(-44.1945, dtype=torch.float64, grad_fn=<SumBackward0>)\n",
      "tensor([10., 10., 10., 10.], dtype=torch.float64)\n"
     ]
    }
   ],
   "source": [
    "\n",
    "\n",
    "np.random.seed(199)\n",
    "\n",
    "x = torch.from_numpy(np.random.randn(10, 5))\n",
    "x.requires_grad = True\n",
    "weight = torch.from_numpy(np.random.randn(5, 4))\n",
    "weight.requires_grad = True\n",
    "bias = torch.from_numpy(np.random.randn(4))\n",
    "bias.requires_grad = True\n",
    "t = torch.broadcast_to(bias, (10, 4))\n",
    "t.requires_grad = True\n",
    "l = ((x @ weight + t) ** 2).sum()\n",
    "l.backward()\n",
    "print(l)\n",
    "x.grad\n",
    "print(bias.grad)\n",
    "print(t.grad)\n",
    "# a = torch.tensor([1], dtype=torch.float)\n",
    "# a.requires_grad = True\n",
    "# b = torch.broadcast_to(a, (2, 4))\n",
    "# c = b.sum()\n",
    "# c.backward()\n",
    "# a.grad"
   ],
   "metadata": {
    "collapsed": false
   }
  },
  {
   "cell_type": "code",
   "execution_count": 116,
   "outputs": [
    {
     "name": "stdout",
     "output_type": "stream",
     "text": [
      "tensor(84., grad_fn=<SumBackward0>)\n"
     ]
    },
    {
     "data": {
      "text/plain": "tensor([[ 2.,  4.,  6.,  8.],\n        [ 4.,  6.,  8., 10.]])"
     },
     "execution_count": 116,
     "metadata": {},
     "output_type": "execute_result"
    }
   ],
   "source": [
    "\n",
    "a = torch.tensor([[1,2,3,4], [2,3,4,5]], dtype=torch.float)\n",
    "a.requires_grad = True\n",
    "l = (a ** 2).sum()\n",
    "l.backward()\n",
    "print(l)\n",
    "a.grad\n",
    "# a = np.array([3])\n",
    "# # a = np.random.random((2,3,4))\n",
    "# np.broadcast_to(a, (2,4))\n"
   ],
   "metadata": {
    "collapsed": false
   }
  }
 ],
 "metadata": {
  "kernelspec": {
   "display_name": "Python 3",
   "language": "python",
   "name": "python3"
  },
  "language_info": {
   "codemirror_mode": {
    "name": "ipython",
    "version": 2
   },
   "file_extension": ".py",
   "mimetype": "text/x-python",
   "name": "python",
   "nbconvert_exporter": "python",
   "pygments_lexer": "ipython2",
   "version": "2.7.6"
  }
 },
 "nbformat": 4,
 "nbformat_minor": 0
}
