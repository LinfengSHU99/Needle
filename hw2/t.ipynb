{
 "cells": [
  {
   "cell_type": "code",
   "execution_count": 1,
   "outputs": [],
   "source": [
    "\n",
    "import sys\n",
    "sys.path.append('./python')\n",
    "sys.path.append('./apps')\n",
    "import numpy as np\n",
    "import needle as ndl\n",
    "import needle.nn as nn\n"
   ],
   "metadata": {
    "collapsed": false
   }
  },
  {
   "cell_type": "code",
   "execution_count": 2,
   "outputs": [],
   "source": [
    "def get_tensor(*shape, entropy=1):\n",
    "    np.random.seed(np.prod(shape) * len(shape) * entropy)\n",
    "    return ndl.Tensor(np.random.randint(0, 100, size=shape) / 20, dtype=\"float32\")"
   ],
   "metadata": {
    "collapsed": false
   }
  },
  {
   "cell_type": "code",
   "execution_count": 3,
   "outputs": [],
   "source": [
    "def nn_linear_bias_init():\n",
    "    np.random.seed(1337)\n",
    "    f = ndl.nn.Linear(7, 4)\n",
    "    return f.bias.cached_data\n",
    "\n",
    "\n",
    "np.testing.assert_allclose(nn_linear_bias_init(),\n",
    "    np.array([[ 0.077647,  0.814139, -0.770975,  1.120297]],\n",
    "     dtype=np.float32), rtol=1e-5, atol=1e-5)"
   ],
   "metadata": {
    "collapsed": false
   }
  },
  {
   "cell_type": "code",
   "execution_count": 4,
   "outputs": [],
   "source": [
    "from mlp_resnet import *\n",
    "def train_epoch_1(hidden_dim, batch_size, optimizer, **kwargs):\n",
    "    np.random.seed(1)\n",
    "    train_dataset = ndl.data.MNISTDataset( \\\n",
    "        \"./data/train-images-idx3-ubyte.gz\",\n",
    "        \"./data/train-labels-idx1-ubyte.gz\")\n",
    "    train_dataloader = ndl.data.DataLoader( \\\n",
    "        dataset=train_dataset,\n",
    "        batch_size=batch_size)\n",
    "\n",
    "    model = MLPResNet(784, hidden_dim)\n",
    "    opt = optimizer(model.parameters(), **kwargs)\n",
    "    model.eval()\n",
    "    return np.array(epoch(train_dataloader, model, opt))\n",
    "\n",
    "\n",
    "def eval_epoch_1(hidden_dim, batch_size):\n",
    "    np.random.seed(1)\n",
    "    test_dataset = ndl.data.MNISTDataset( \\\n",
    "        \"./data/t10k-images-idx3-ubyte.gz\",\n",
    "        \"./data/t10k-labels-idx1-ubyte.gz\")\n",
    "    test_dataloader = ndl.data.DataLoader( \\\n",
    "        dataset=test_dataset,\n",
    "        batch_size=batch_size,\n",
    "        shuffle=False)\n",
    "\n",
    "    model = MLPResNet(784, hidden_dim)\n",
    "    model.train()\n",
    "    return np.array(epoch(test_dataloader, model))\n",
    "\n",
    "np.testing.assert_allclose(eval_epoch_1(10, 150),\n",
    "                           np.array([0.9164, 4.137814]), rtol=1e-5, atol=1e-5)"
   ],
   "metadata": {
    "collapsed": false
   }
  },
  {
   "cell_type": "code",
   "execution_count": 5,
   "outputs": [
    {
     "data": {
      "text/plain": "4"
     },
     "execution_count": 5,
     "metadata": {},
     "output_type": "execute_result"
    }
   ],
   "source": [
    "\n",
    "a = np.array([[1,2,3], [1,2,3]])\n",
    "b = np.array([[1,1,1], [1,1,1]])\n",
    "np.sum(a != b)"
   ],
   "metadata": {
    "collapsed": false
   }
  }
 ],
 "metadata": {
  "kernelspec": {
   "display_name": "Python 3",
   "language": "python",
   "name": "python3"
  },
  "language_info": {
   "codemirror_mode": {
    "name": "ipython",
    "version": 2
   },
   "file_extension": ".py",
   "mimetype": "text/x-python",
   "name": "python",
   "nbconvert_exporter": "python",
   "pygments_lexer": "ipython2",
   "version": "2.7.6"
  }
 },
 "nbformat": 4,
 "nbformat_minor": 0
}
