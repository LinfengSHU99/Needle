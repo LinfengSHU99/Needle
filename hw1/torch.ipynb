{
 "cells": [
  {
   "cell_type": "code",
   "execution_count": 2,
   "outputs": [],
   "source": [
    "import torch\n",
    "import numpy as np"
   ],
   "metadata": {
    "collapsed": false
   }
  },
  {
   "cell_type": "code",
   "execution_count": 9,
   "outputs": [],
   "source": [
    "x = torch.from_numpy(np.array([[1,2,3], [4,5,6]]).astype(np.float64))\n",
    "y_one_hot = torch.from_numpy(np.array([[1,0], [0,1]]))\n",
    "y = torch.from_numpy(np.array([0, 1]))\n",
    "w1 = torch.from_numpy(np.array([[1,0], [1,0], [0,0]]).astype(np.float64))\n",
    "w2 = torch.from_numpy(np.array([[1,0], [1,0]]).astype(np.float64))\n",
    "w1.requires_grad = True\n",
    "w2.requires_grad = True"
   ],
   "metadata": {
    "collapsed": false
   }
  },
  {
   "cell_type": "code",
   "execution_count": 10,
   "outputs": [
    {
     "name": "stdout",
     "output_type": "stream",
     "text": [
      "tensor([[1.9760, 1.9760],\n",
      "        [2.4523, 2.4523],\n",
      "        [2.9285, 2.9285]], dtype=torch.float64) tensor([[ 4.4283, -4.4283],\n",
      "        [ 0.0000,  0.0000]], dtype=torch.float64)\n"
     ]
    }
   ],
   "source": [
    "z = x @ w1 @ w2\n",
    "t = torch.log(torch.exp(z).sum(dim=1)) - (z * y_one_hot).sum(dim=1)\n",
    "loss = t.sum() / t.shape[0]\n",
    "loss.backward()\n",
    "print(w1.grad, w2.grad)"
   ],
   "metadata": {
    "collapsed": false
   }
  },
  {
   "cell_type": "code",
   "execution_count": 4,
   "outputs": [
    {
     "data": {
      "text/plain": "tensor([2, 6])"
     },
     "execution_count": 4,
     "metadata": {},
     "output_type": "execute_result"
    }
   ],
   "source": [
    "a = torch.tensor([[1,2,3], [4,5,6]])\n",
    "a[(0,1), (1,2)]"
   ],
   "metadata": {
    "collapsed": false
   }
  }
 ],
 "metadata": {
  "kernelspec": {
   "display_name": "Python 3",
   "language": "python",
   "name": "python3"
  },
  "language_info": {
   "codemirror_mode": {
    "name": "ipython",
    "version": 2
   },
   "file_extension": ".py",
   "mimetype": "text/x-python",
   "name": "python",
   "nbconvert_exporter": "python",
   "pygments_lexer": "ipython2",
   "version": "2.7.6"
  }
 },
 "nbformat": 4,
 "nbformat_minor": 0
}
