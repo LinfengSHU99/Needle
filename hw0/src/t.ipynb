{
 "cells": [
  {
   "cell_type": "code",
   "execution_count": 2,
   "metadata": {
    "collapsed": true
   },
   "outputs": [],
   "source": [
    "\n",
    "import gzip\n",
    "import math\n",
    "\n",
    "import numpy as np\n",
    "import math\n",
    "import numdifftools as nd\n",
    "import sys\n",
    "sys.path.append(\"./src\")\n",
    "import mugrade\n",
    "from simple_ml import *\n",
    "try:\n",
    "    from simple_ml_ext import *\n",
    "except:\n",
    "    pass"
   ]
  },
  {
   "cell_type": "code",
   "execution_count": 3,
   "metadata": {},
   "outputs": [
    {
     "name": "stdout",
     "output_type": "stream",
     "text": [
      "[[ 1.7640524  -0.9772779   0.14404356  0.33367434 -2.5529897  -1.4543657\n",
      "   0.15494743  0.15634897 -1.048553   -0.4380743  -0.89546657  0.42833188\n",
      "  -0.67246044 -0.40178093  0.7290906  -0.6848101  -1.1651498   1.8958892\n",
      "  -0.40317693  0.7065732   1.8831507   1.9436212   1.867559    0.8024564\n",
      "   0.37642553 -0.14963454 -0.76991606  0.67643327 -1.4912575   0.94447947\n",
      "  -0.0682416  -0.6634783  -0.49803245  0.844363    0.9208588   0.6815945\n",
      "  -0.35399392 -1.6020577  -1.2928569  -0.17154633 -0.36918184 -1.616956\n",
      "   0.9101789  -0.4100497  -0.955945    0.06326199 -1.424061    0.7811981\n",
      "  -0.63743705 -1.6760038 ]\n",
      " [ 0.4001572   0.95008844  1.4542735   1.4940791   0.6536186   0.04575852\n",
      "   0.37816253  1.2302907  -1.420018   -1.2527953   0.3869025   0.06651722\n",
      "  -0.35955316 -1.6301984   0.12898292 -0.87079716  0.9008265   1.1787796\n",
      "   1.222445    0.01050002 -1.347759   -0.41361898  0.90604466  0.947252\n",
      "  -1.0994008  -0.43515354  0.5392492   0.57659084  0.4393917  -0.91282225\n",
      "   1.7133427   1.1266359   1.929532   -1.0002153   0.31872764 -0.80340964\n",
      "  -1.3749512  -1.1043833   0.26705086  0.77179056 -0.23937918 -0.02432613\n",
      "   0.3172182  -0.01702041 -0.34598178  0.15650654 -0.49331987  1.4944845\n",
      "  -0.3972718   1.1523316 ]\n",
      " [ 0.978738   -0.1513572   0.7610377  -0.20515826  0.8644362  -0.18718386\n",
      "  -0.88778573  1.2023798  -1.7062702   0.7774904  -0.51080513  0.3024719\n",
      "  -0.8131463   0.46278226  1.1394007  -0.5788497   0.46566245 -0.17992483\n",
      "   0.20827498  1.7858706  -1.270485   -0.7474548  -0.86122566 -0.15501009\n",
      "   0.2982382   1.8492638  -0.6743327  -0.20829876  0.1666735   1.1170163\n",
      "  -0.74475485 -1.0799315   0.9494208  -1.5447711   0.8568306  -0.6895498\n",
      "  -0.6436184   0.05216508 -0.03928282  0.82350415  1.0996596  -0.7380309\n",
      "   0.78632796  0.37915173 -0.463596    0.23218104 -0.54286146 -2.069985\n",
      "  -0.13288058  1.0796186 ]\n",
      " [ 2.2408931  -0.10321885  0.12167501  0.3130677  -0.742165    1.5327792\n",
      "  -1.9807965  -0.3873268   1.9507754  -1.6138978  -1.1806322  -0.6343221\n",
      "  -1.7262826  -0.9072984  -1.2348258  -0.31155252 -1.5362437  -1.0707526\n",
      "   0.97663903  0.12691209  0.9693967   1.922942    1.9100649   0.61407936\n",
      "   1.3263859   0.67229474  0.03183056  0.3960067   0.63503146 -1.3159074\n",
      "  -0.82643855 -1.1474687   0.08755124  1.1880298  -0.6510256  -0.4555325\n",
      "  -2.2234032  -0.739563   -1.1680934   2.163236    0.6552637   0.2799246\n",
      "  -0.4664191   2.259309    0.48148146 -0.5973161   0.41605005  0.42625874\n",
      "  -0.29779088 -0.81336427]\n",
      " [ 1.867558    0.41059852  0.44386324 -0.85409576  2.2697546   1.4693588\n",
      "  -0.34791216 -0.30230275 -0.5096522  -0.21274029 -0.02818223 -0.36274117\n",
      "   0.17742614  0.0519454   0.40234163  0.05616534  1.4882522   1.0544517\n",
      "   0.3563664   0.40198937 -1.1731234   1.4805148  -0.26800337  0.9222067\n",
      "  -0.69456786  0.40746182 -0.6358461  -1.0930616   2.3831449  -0.4615846\n",
      "  -0.09845252 -0.43782005 -1.2254355   0.3169426  -1.0342429   0.01747916\n",
      "   0.62523144  1.5430146   0.5232767   1.336528    0.64013153 -0.09815039\n",
      "  -0.94444627 -0.04225715 -1.540797   -0.23792173 -1.1561824   0.676908\n",
      "  -0.30901298 -1.4664243 ]]\n"
     ]
    }
   ],
   "source": [
    "np.random.seed(0)\n",
    "X = np.random.randn(50,5).astype(np.float32)\n",
    "y = np.random.randint(3, size=(50,)).astype(np.uint8)\n",
    "Theta = np.zeros((5,3), dtype=np.float32)\n",
    "# dTheta = -nd.Gradient(lambda Th : softmax_loss(X@Th.reshape(5,3),y))(Theta)\n",
    "# softmax_regression_epoch_cpp(X,y,Theta,lr=1.0,batch=50)\n",
    "softmax_regression_epoch(X,y,Theta,lr=1.0,batch=50)\n",
    "# y"
   ]
  },
  {
   "cell_type": "code",
   "execution_count": 28,
   "metadata": {
    "collapsed": false,
    "pycharm": {
     "name": "#%%\n"
    }
   },
   "outputs": [
    {
     "data": {
      "text/plain": [
       "(10000, 784)"
      ]
     },
     "execution_count": 28,
     "metadata": {},
     "output_type": "execute_result"
    }
   ],
   "source": [
    "images = gzip.open(\"../data/t10k-images-idx3-ubyte.gz\", mode=\"rb\")\n",
    "content = images.read()\n",
    "a = struct.unpack(\">\" + \"B\" * len(content[16:]), content[16:])\n",
    "arr = np.array(a, dtype=np.float32)\n",
    "arr = arr.reshape(10000\n",
    "            , 784)\n",
    "arr.shape"
   ]
  },
  {
   "cell_type": "code",
   "execution_count": 5,
   "metadata": {
    "collapsed": false,
    "pycharm": {
     "name": "#%%\n"
    }
   },
   "outputs": [
    {
     "ename": "TypeError",
     "evalue": "only integer scalar arrays can be converted to a scalar index",
     "output_type": "error",
     "traceback": [
      "\u001b[1;31m---------------------------------------------------------------------------\u001b[0m",
      "\u001b[1;31mTypeError\u001b[0m                                 Traceback (most recent call last)",
      "\u001b[1;32m<ipython-input-5-a85d9172164a>\u001b[0m in \u001b[0;36m<module>\u001b[1;34m\u001b[0m\n\u001b[0;32m      1\u001b[0m \u001b[0ma\u001b[0m \u001b[1;33m=\u001b[0m \u001b[0mnp\u001b[0m\u001b[1;33m.\u001b[0m\u001b[0marray\u001b[0m\u001b[1;33m(\u001b[0m\u001b[1;33m[\u001b[0m\u001b[1;33m[\u001b[0m\u001b[1;36m1\u001b[0m\u001b[1;33m,\u001b[0m\u001b[1;36m2\u001b[0m\u001b[1;33m,\u001b[0m\u001b[1;36m3\u001b[0m\u001b[1;33m]\u001b[0m\u001b[1;33m,\u001b[0m \u001b[1;33m[\u001b[0m\u001b[1;36m2\u001b[0m\u001b[1;33m,\u001b[0m\u001b[1;36m3\u001b[0m\u001b[1;33m,\u001b[0m\u001b[1;36m4\u001b[0m\u001b[1;33m]\u001b[0m\u001b[1;33m]\u001b[0m\u001b[1;33m)\u001b[0m\u001b[1;33m\u001b[0m\u001b[1;33m\u001b[0m\u001b[0m\n\u001b[1;32m----> 2\u001b[1;33m \u001b[0mnp\u001b[0m\u001b[1;33m.\u001b[0m\u001b[0mmask_indices\u001b[0m\u001b[1;33m(\u001b[0m\u001b[0ma\u001b[0m\u001b[1;33m,\u001b[0m \u001b[1;33m(\u001b[0m\u001b[1;36m1\u001b[0m\u001b[1;33m,\u001b[0m\u001b[1;36m1\u001b[0m\u001b[1;33m)\u001b[0m\u001b[1;33m)\u001b[0m\u001b[1;33m\u001b[0m\u001b[1;33m\u001b[0m\u001b[0m\n\u001b[0m\u001b[0;32m      3\u001b[0m \u001b[1;31m# a = a.transpose((1, 0))\u001b[0m\u001b[1;33m\u001b[0m\u001b[1;33m\u001b[0m\u001b[1;33m\u001b[0m\u001b[0m\n\u001b[0;32m      4\u001b[0m \u001b[1;31m# t = np.ones((3,3))\u001b[0m\u001b[1;33m\u001b[0m\u001b[1;33m\u001b[0m\u001b[1;33m\u001b[0m\u001b[0m\n\u001b[0;32m      5\u001b[0m \u001b[1;31m# t.max(axis=1, keepdims=1)\u001b[0m\u001b[1;33m\u001b[0m\u001b[1;33m\u001b[0m\u001b[1;33m\u001b[0m\u001b[0m\n",
      "\u001b[1;32md:\\Programs\\Anaconda3\\lib\\site-packages\\numpy\\lib\\twodim_base.py\u001b[0m in \u001b[0;36mmask_indices\u001b[1;34m(n, mask_func, k)\u001b[0m\n\u001b[0;32m    819\u001b[0m \u001b[1;33m\u001b[0m\u001b[0m\n\u001b[0;32m    820\u001b[0m     \"\"\"\n\u001b[1;32m--> 821\u001b[1;33m     \u001b[0mm\u001b[0m \u001b[1;33m=\u001b[0m \u001b[0mones\u001b[0m\u001b[1;33m(\u001b[0m\u001b[1;33m(\u001b[0m\u001b[0mn\u001b[0m\u001b[1;33m,\u001b[0m \u001b[0mn\u001b[0m\u001b[1;33m)\u001b[0m\u001b[1;33m,\u001b[0m \u001b[0mint\u001b[0m\u001b[1;33m)\u001b[0m\u001b[1;33m\u001b[0m\u001b[1;33m\u001b[0m\u001b[0m\n\u001b[0m\u001b[0;32m    822\u001b[0m     \u001b[0ma\u001b[0m \u001b[1;33m=\u001b[0m \u001b[0mmask_func\u001b[0m\u001b[1;33m(\u001b[0m\u001b[0mm\u001b[0m\u001b[1;33m,\u001b[0m \u001b[0mk\u001b[0m\u001b[1;33m)\u001b[0m\u001b[1;33m\u001b[0m\u001b[1;33m\u001b[0m\u001b[0m\n\u001b[0;32m    823\u001b[0m     \u001b[1;32mreturn\u001b[0m \u001b[0mnonzero\u001b[0m\u001b[1;33m(\u001b[0m\u001b[0ma\u001b[0m \u001b[1;33m!=\u001b[0m \u001b[1;36m0\u001b[0m\u001b[1;33m)\u001b[0m\u001b[1;33m\u001b[0m\u001b[1;33m\u001b[0m\u001b[0m\n",
      "\u001b[1;32md:\\Programs\\Anaconda3\\lib\\site-packages\\numpy\\core\\numeric.py\u001b[0m in \u001b[0;36mones\u001b[1;34m(shape, dtype, order, like)\u001b[0m\n\u001b[0;32m    202\u001b[0m         \u001b[1;32mreturn\u001b[0m \u001b[0m_ones_with_like\u001b[0m\u001b[1;33m(\u001b[0m\u001b[0mshape\u001b[0m\u001b[1;33m,\u001b[0m \u001b[0mdtype\u001b[0m\u001b[1;33m=\u001b[0m\u001b[0mdtype\u001b[0m\u001b[1;33m,\u001b[0m \u001b[0morder\u001b[0m\u001b[1;33m=\u001b[0m\u001b[0morder\u001b[0m\u001b[1;33m,\u001b[0m \u001b[0mlike\u001b[0m\u001b[1;33m=\u001b[0m\u001b[0mlike\u001b[0m\u001b[1;33m)\u001b[0m\u001b[1;33m\u001b[0m\u001b[1;33m\u001b[0m\u001b[0m\n\u001b[0;32m    203\u001b[0m \u001b[1;33m\u001b[0m\u001b[0m\n\u001b[1;32m--> 204\u001b[1;33m     \u001b[0ma\u001b[0m \u001b[1;33m=\u001b[0m \u001b[0mempty\u001b[0m\u001b[1;33m(\u001b[0m\u001b[0mshape\u001b[0m\u001b[1;33m,\u001b[0m \u001b[0mdtype\u001b[0m\u001b[1;33m,\u001b[0m \u001b[0morder\u001b[0m\u001b[1;33m)\u001b[0m\u001b[1;33m\u001b[0m\u001b[1;33m\u001b[0m\u001b[0m\n\u001b[0m\u001b[0;32m    205\u001b[0m     \u001b[0mmultiarray\u001b[0m\u001b[1;33m.\u001b[0m\u001b[0mcopyto\u001b[0m\u001b[1;33m(\u001b[0m\u001b[0ma\u001b[0m\u001b[1;33m,\u001b[0m \u001b[1;36m1\u001b[0m\u001b[1;33m,\u001b[0m \u001b[0mcasting\u001b[0m\u001b[1;33m=\u001b[0m\u001b[1;34m'unsafe'\u001b[0m\u001b[1;33m)\u001b[0m\u001b[1;33m\u001b[0m\u001b[1;33m\u001b[0m\u001b[0m\n\u001b[0;32m    206\u001b[0m     \u001b[1;32mreturn\u001b[0m \u001b[0ma\u001b[0m\u001b[1;33m\u001b[0m\u001b[1;33m\u001b[0m\u001b[0m\n",
      "\u001b[1;31mTypeError\u001b[0m: only integer scalar arrays can be converted to a scalar index"
     ]
    }
   ],
   "source": [
    "a = np.array([[1,2,3], [2,3,4]])\n",
    "np.mask_indices(a, (1,1))\n",
    "# a = a.transpose((1, 0))\n",
    "# t = np.ones((3,3))\n",
    "# t.max(axis=1, keepdims=1)\n",
    "# 3 ** a\n",
    "# np.e ** a\n",
    "# a.sum(axis=1, keepdims=1)\n",
    "# a = torch.tensor([[1,2,3], [2,3,4]])\n",
    "# a.sum(dim=1, keepdim=True)\n",
    "\n",
    "# i = np.array([0,0])\n",
    "#\n",
    "# a[(0 ,1), (0,0)]\n",
    "# a = np.arange(0, 900, 100)\n",
    "# a = np.append(a, 1)\n",
    "# a"
   ]
  }
 ],
 "metadata": {
  "kernelspec": {
   "display_name": "Python 3.8.10 64-bit",
   "language": "python",
   "name": "python3"
  },
  "language_info": {
   "codemirror_mode": {
    "name": "ipython",
    "version": 3
   },
   "file_extension": ".py",
   "mimetype": "text/x-python",
   "name": "python",
   "nbconvert_exporter": "python",
   "pygments_lexer": "ipython3",
   "version": "3.8.10"
  },
  "vscode": {
   "interpreter": {
    "hash": "916dbcbb3f70747c44a77c7bcd40155683ae19c65e1c03b4aa3499c5328201f1"
   }
  }
 },
 "nbformat": 4,
 "nbformat_minor": 0
}
